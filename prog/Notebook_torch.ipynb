{
  "cells": [
    {
      "cell_type": "code",
      "execution_count": 1,
      "metadata": {
        "colab": {
          "base_uri": "https://localhost:8080/"
        },
        "id": "8778VO5UxfD9",
        "outputId": "95925ed4-5efa-472d-afd5-575929cff5d8"
      },
      "outputs": [
        {
          "name": "stdout",
          "output_type": "stream",
          "text": [
            "Installing collected packages: torch-sparse, torch-scatter, torch-geometric\n",
            "Successfully installed torch-geometric-2.0.4 torch-scatter-2.0.9 torch-sparse-0.6.13\n"
          ]
        }
      ],
      "source": [
        "%pip install torch-scatter torch-sparse torch-geometric"
      ]
    },
    {
      "cell_type": "code",
      "execution_count": 2,
      "metadata": {
        "id": "vxTszHkUSQKe"
      },
      "outputs": [],
      "source": [
        "import matplotlib as mpl\n",
        "import matplotlib.pyplot as plt\n",
        "import random     as rnd\n",
        "import sklearn    as skl\n",
        "import numpy      as np\n",
        "import pandas     as pd\n",
        "import seaborn as sns\n",
        "import networkx as nx\n",
        "import scipy as sp\n",
        "import torch\n",
        "import torch_geometric as pyg"
      ]
    },
    {
      "cell_type": "code",
      "execution_count": 3,
      "metadata": {
        "id": "nYQqnySljeN4"
      },
      "outputs": [],
      "source": [
        "df = pd.read_hdf('cicy3o.h5')\n",
        "df['matrix'] = df['matrix'].apply(lambda x: np.array(x,dtype='float32'))\n",
        "df = df.sample(frac=1)"
      ]
    },
    {
      "cell_type": "code",
      "execution_count": 4,
      "metadata": {
        "id": "2P5Z0qQ_Qdi4"
      },
      "outputs": [],
      "source": [
        "def mat_to_graph1(matrices):\n",
        "    if type(matrices) == np.ndarray:\n",
        "        nodes_features = []\n",
        "        edges_list = []\n",
        "        edges_features = []\n",
        "        rows = matrices.shape[0]\n",
        "        columns = matrices.shape[1]\n",
        "        nodes_features += [[0,1]]*rows + [[1,0]]*columns\n",
        "        for i in range(rows):\n",
        "            for j in range(columns):\n",
        "                if matrices[i][j] > 0:\n",
        "                    edges_list.append([i,rows+j])\n",
        "                    edges_features.append([matrices[i][j]])\n",
        "        edges_list,edges_features = np.array(edges_list),np.array(edges_features)\n",
        "        sparse_adj = sp.sparse.coo_matrix(([1]*len(edges_features),(edges_list[:,0],edges_list[:,1])),shape=(len(nodes_features),len(nodes_features)))\n",
        "        sparse_adj += sparse_adj.T\n",
        "        mod_sparse_adj = sp.sparse.coo_matrix((np.squeeze(edges_features,axis=1),(edges_list[:,0],edges_list[:,1])),shape=(len(nodes_features),len(nodes_features)))\n",
        "        mod_sparse_adj += mod_sparse_adj.T\n",
        "        return {'nodes':nodes_features,'edges_list':edges_list,'edges_features':edges_features,'adj_mat':sparse_adj,'mod_adj_mat':mod_sparse_adj}\n",
        "    else:\n",
        "        graph_list = []\n",
        "        for mat in matrices:\n",
        "            graph_list.append(mat_to_graph1(mat))\n",
        "        return graph_list\n",
        "\n",
        "def mat_to_graph2(matrices):\n",
        "    if type(matrices) == np.ndarray:\n",
        "        nodes_features = []\n",
        "        edges_list = []\n",
        "        edges_features = []\n",
        "        rows = matrices.shape[0]\n",
        "        columns = matrices.shape[1]\n",
        "        node_num_mat = np.zeros(matrices.shape,dtype='float32')\n",
        "        node_num = 0\n",
        "        for i in range(rows):\n",
        "            for j in range(columns):\n",
        "                if matrices[i][j] > 0:\n",
        "                    node_num_mat[i,j] = node_num\n",
        "                    nodes_features.append([matrices[i][j]])\n",
        "                    for k in range(0,i):\n",
        "                        if matrices[k][j] > 0:\n",
        "                            edges_list.append([node_num_mat[k,j],node_num])\n",
        "                            edges_features.append([1,0])\n",
        "                            edges_list.append([node_num,node_num_mat[k,j]])\n",
        "                            edges_features.append([1,0])\n",
        "                    for k in range(0,j):\n",
        "                        if matrices[i][k] > 0:\n",
        "                            edges_list.append([node_num_mat[i,k],node_num])\n",
        "                            edges_features.append([0,1])\n",
        "                            edges_list.append([node_num,node_num_mat[i,k]])\n",
        "                            edges_features.append([0,1])\n",
        "                    node_num += 1\n",
        "        edges_list,edges_features = np.array(edges_list),np.array(edges_features)\n",
        "        sparse_adj = sp.sparse.coo_matrix(([1]*len(edges_features),(edges_list[:,0],edges_list[:,1])),shape=(len(nodes_features),len(nodes_features)))\n",
        "        return {'nodes':nodes_features,'edges_list':edges_list,'edges_features':edges_features,'adj_mat':sparse_adj}\n",
        "    else:\n",
        "        graph_list = []\n",
        "        for mat in matrices:\n",
        "            graph_list.append(mat_to_graph2(mat))\n",
        "        return graph_list\n",
        "\n",
        "def graph_to_mat1(graph):\n",
        "    rows = 0\n",
        "    columns = 0\n",
        "    for node in graph['nodes']:\n",
        "        if node == [0,1]:\n",
        "            rows += 1\n",
        "        else:\n",
        "            columns += 1\n",
        "    matrice = np.zeros((rows,columns))\n",
        "    for i in range(len(graph['edges_list'])):\n",
        "        pos = graph['edges_list'][i]\n",
        "        matrice[pos[0],pos[1]-rows] = graph['edges_features'][i]\n",
        "    return matrice\n",
        "\n",
        "def check_graph_mat1(graph,mat):\n",
        "    return (graph_to_mat1(graph)==mat).all()\n",
        "\n",
        "def df_to_list(df):\n",
        "    graphs_list = mat_to_graph1(list(df['matrix'].values))\n",
        "    for i in range(len(graphs_list)):\n",
        "        graphs_list[i]['h11'] = df['h11'].values[i]\n",
        "        graphs_list[i]['h21'] = df['h21'].values[i]\n",
        "    return graphs_list"
      ]
    },
    {
      "cell_type": "code",
      "execution_count": 5,
      "metadata": {
        "id": "IHsULURQQfRU"
      },
      "outputs": [],
      "source": [
        "graphs_list = df_to_list(df)"
      ]
    },
    {
      "cell_type": "code",
      "execution_count": null,
      "metadata": {
        "id": "n_9yBRquVXVs"
      },
      "outputs": [],
      "source": [
        "class OriginalCICY3(pyg.data.InMemoryDataset):\n",
        "\n",
        "    url = 'http://www.lpthe.jussieu.fr/~erbin/files/data/cicy3o.h5'\n",
        "\n",
        "    def __init__(self,root,transform=None,pre_transform=None,pre):\n",
        "        super().__init__(root,transform,pre_transform)\n",
        "        self.data, self.slices = torch.load(self.processed_paths[0])\n",
        "    \n",
        "    @property\n",
        "    def raw_file_names(self):\n",
        "        return ['cicy3o.h5']\n",
        "\n",
        "    @property\n",
        "    def download(self):\n",
        "        download_url(self.url,self.raw_dir)\n",
        "\n",
        "class OriginalCICY3(pyg.data.InMemoryDataset):\n",
        "\n",
        "    url = 'http://www.lpthe.jussieu.fr/~erbin/files/data/cicy3o.h5'\n",
        "\n",
        "    def __init__(self, root, transform=None, pre_transform=None, pre_filter=None):\n",
        "        super().__init__(root, transform, pre_transform, pre_filter)\n",
        "        self.data, self.slices = torch.load(self.processed_paths[0])\n",
        "\n",
        "    @property\n",
        "    def raw_file_names(self):\n",
        "        return ['cicy3o.h5']\n",
        "\n",
        "    @property\n",
        "    def processed_file_names(self):\n",
        "        return ['cicy3o.pt']\n",
        "\n",
        "    def download(self):\n",
        "        # Download to `self.raw_dir`.\n",
        "        pyg.data.download_url(url, self.raw_dir)\n",
        "\n",
        "    def process(self):\n",
        "        # Read data into huge `Data` list.\n",
        "        data_list = [...]\n",
        "\n",
        "        if self.pre_filter is not None:\n",
        "            data_list = [data for data in data_list if self.pre_filter(data)]\n",
        "\n",
        "        if self.pre_transform is not None:\n",
        "            data_list = [self.pre_transform(data) for data in data_list]\n",
        "\n",
        "        data, slices = self.collate(data_list)\n",
        "        torch.save((data, slices), self.processed_paths[0])"
      ]
    }
  ],
  "metadata": {
    "colab": {
      "collapsed_sections": [],
      "name": "Notebook torch.ipynb",
      "provenance": []
    },
    "interpreter": {
      "hash": "635d87d70794cd75c9df0a55adb87f6dc0ac7334aee3eb64b4779b10e3e88c14"
    },
    "kernelspec": {
      "display_name": "Python 3.8.13 ('torch-nightly')",
      "language": "python",
      "name": "python3"
    },
    "language_info": {
      "name": "python",
      "version": "3.8.13"
    }
  },
  "nbformat": 4,
  "nbformat_minor": 0
}
