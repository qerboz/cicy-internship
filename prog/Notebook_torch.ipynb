{
  "cells": [
    {
      "cell_type": "code",
      "execution_count": 9,
      "metadata": {
        "id": "vxTszHkUSQKe"
      },
      "outputs": [],
      "source": [
        "import matplotlib as mpl\n",
        "import matplotlib.pyplot as plt\n",
        "import random     as rnd\n",
        "import sklearn    as skl\n",
        "import numpy      as np\n",
        "import pandas     as pd\n",
        "import seaborn as sns\n",
        "import networkx as nx\n",
        "import scipy as sp\n",
        "import torch\n",
        "import torch_geometric as pyg\n",
        "import os"
      ]
    },
    {
      "cell_type": "code",
      "execution_count": 45,
      "metadata": {
        "id": "2P5Z0qQ_Qdi4"
      },
      "outputs": [],
      "source": [
        "def mat_to_graph1(matrices):\n",
        "    if type(matrices) == torch.Tensor:\n",
        "        nodes_features = []\n",
        "        edges_list = []\n",
        "        edges_features = []\n",
        "        rows = matrices.shape[0]\n",
        "        columns = matrices.shape[1]\n",
        "        nodes_features += [[0,1]]*rows + [[1,0]]*columns\n",
        "        for i in range(rows):\n",
        "            for j in range(columns):\n",
        "                if matrices[i][j] > 0:\n",
        "                    edges_list.append([i,rows+j])\n",
        "                    edges_features.append(matrices[i][j])\n",
        "        edges_list = torch.transpose(torch.tensor(edges_list,dtype=torch.int),0,1)\n",
        "        edges_features = torch.tensor(edges_features,dtype=torch.float)\n",
        "        sparse_adj = torch.sparse_coo_tensor(edges_list,torch.tensor([1]*len(edges_features)),size=(len(nodes_features),len(nodes_features)))\n",
        "        sparse_adj += torch.transpose(sparse_adj,0,1)\n",
        "        mod_sparse_adj = torch.sparse_coo_tensor(edges_list,edges_features,size=(len(nodes_features),len(nodes_features)))\n",
        "        return {'nodes':nodes_features,'edges_list':edges_list,'edges_features':edges_features,'adj_mat':sparse_adj,'mod_adj_mat':mod_sparse_adj}\n",
        "    else:\n",
        "        graph_list = []\n",
        "        for mat in matrices:\n",
        "            graph_list.append(mat_to_graph1(mat))\n",
        "        return graph_list\n",
        "\n",
        "def mat_to_graph2(matrices):\n",
        "    if type(matrices) == np.ndarray:\n",
        "        nodes_features = []\n",
        "        edges_list = []\n",
        "        edges_features = []\n",
        "        rows = matrices.shape[0]\n",
        "        columns = matrices.shape[1]\n",
        "        node_num_mat = np.zeros(matrices.shape,dtype='float32')\n",
        "        node_num = 0\n",
        "        for i in range(rows):\n",
        "            for j in range(columns):\n",
        "                if matrices[i][j] > 0:\n",
        "                    node_num_mat[i,j] = node_num\n",
        "                    nodes_features.append([matrices[i][j]])\n",
        "                    for k in range(0,i):\n",
        "                        if matrices[k][j] > 0:\n",
        "                            edges_list.append([node_num_mat[k,j],node_num])\n",
        "                            edges_features.append([1,0])\n",
        "                            edges_list.append([node_num,node_num_mat[k,j]])\n",
        "                            edges_features.append([1,0])\n",
        "                    for k in range(0,j):\n",
        "                        if matrices[i][k] > 0:\n",
        "                            edges_list.append([node_num_mat[i,k],node_num])\n",
        "                            edges_features.append([0,1])\n",
        "                            edges_list.append([node_num,node_num_mat[i,k]])\n",
        "                            edges_features.append([0,1])\n",
        "                    node_num += 1\n",
        "        edges_list,edges_features = np.array(edges_list),np.array(edges_features)\n",
        "        sparse_adj = sp.sparse.coo_matrix(([1]*len(edges_features),(edges_list[:,0],edges_list[:,1])),shape=(len(nodes_features),len(nodes_features)))\n",
        "        return {'nodes':nodes_features,'edges_list':edges_list,'edges_features':edges_features,'adj_mat':sparse_adj}\n",
        "    else:\n",
        "        graph_list = []\n",
        "        for mat in matrices:\n",
        "            graph_list.append(mat_to_graph2(mat))\n",
        "        return graph_list\n",
        "\n",
        "def graph_to_mat1(graph):\n",
        "    rows = 0\n",
        "    columns = 0\n",
        "    for node in graph['nodes']:\n",
        "        if node == [0,1]:\n",
        "            rows += 1\n",
        "        else:\n",
        "            columns += 1\n",
        "    matrice = torch.zeros((rows,columns))\n",
        "    for i in range(len(graph['edges_list'])):\n",
        "        pos = graph['edges_list'][i]\n",
        "        matrice[pos[0],pos[1]-rows] = graph['edges_features'][i]\n",
        "    return matrice\n",
        "\n",
        "def check_graph_mat1(graph,mat):\n",
        "    return (graph_to_mat1(graph)==mat).all()\n",
        "\n",
        "def df_to_list(df):\n",
        "    graphs_list = mat_to_graph1(list(df['matrix'].values))\n",
        "    for i in range(len(graphs_list)):\n",
        "        graphs_list[i]['target'] = {'h11':df['h11'].values[i],'h21':df['h21'].values[i]}\n",
        "    return graphs_list"
      ]
    },
    {
      "cell_type": "code",
      "execution_count": 47,
      "metadata": {},
      "outputs": [],
      "source": [
        "from torch_geometric.data import Data\n",
        "def graph_to_data(graph):\n",
        "    return Data(x=graph['nodes'],edge_index=graph['edges_list'],edge_attr=graph['edges_features'],y=graph['target'])"
      ]
    },
    {
      "cell_type": "code",
      "execution_count": 51,
      "metadata": {},
      "outputs": [],
      "source": [
        "def max_filter(x,label=None):\n",
        "    if label == None:\n",
        "        return lambda graph: graph.y <= x\n",
        "    else:\n",
        "        return lambda graph: graph.y[label] <= x\n",
        "\n",
        "def min_filter(x,label=None):\n",
        "    if label == None:\n",
        "        return lambda graph: graph.y >= x\n",
        "    else:\n",
        "        return lambda graph: graph.y[label] >= x\n",
        "\n",
        "def label_selection(label):\n",
        "    def select(graph):\n",
        "        if label == 'h11':\n",
        "            graph.y = graph.y['h11']\n",
        "        elif label == 'h21':\n",
        "            graph.y = graph.y['h11']\n",
        "        else:\n",
        "            graph.y = torch.tensor([graph.y['h11'],graph.y['h21']],dtype=torch.int)\n",
        "        return graph\n",
        "    return select"
      ]
    },
    {
      "cell_type": "code",
      "execution_count": 55,
      "metadata": {
        "id": "n_9yBRquVXVs"
      },
      "outputs": [],
      "source": [
        "class OriginalCICY3(pyg.data.InMemoryDataset):\n",
        "    def __init__(self, root, transform=None, pre_transform=None, pre_filter=None):\n",
        "        self.url = 'http://www.lpthe.jussieu.fr/~erbin/files/data/cicy3o.h5'\n",
        "        super().__init__(root, transform, pre_transform, pre_filter)\n",
        "        self.data, self.slices = torch.load(self.processed_paths[0])\n",
        "\n",
        "    def pre_filter_func(self,graph):\n",
        "        if type(self.pre_filter)==list:\n",
        "            for check in self.pre_filter:\n",
        "                if not check(graph):\n",
        "                    return False\n",
        "            return True\n",
        "        else:\n",
        "            return self.pre_filter(graph)\n",
        "    \n",
        "    def pre_transform_func(self,graph):\n",
        "        if type(self.pre_transform)==list:\n",
        "            for transform in self.pre_transform:\n",
        "                graph = transform(graph)\n",
        "            return graph\n",
        "        else:\n",
        "            return self.pre_transform(graph)\n",
        "\n",
        "    @property\n",
        "    def raw_file_names(self):\n",
        "        return ['cicy3o.h5']\n",
        "\n",
        "    @property\n",
        "    def processed_file_names(self):\n",
        "        return ['cicy3o.pt']\n",
        "\n",
        "    def download(self):\n",
        "        # Download to `self.raw_dir`.\n",
        "        pyg.data.download_url(self.url, self.raw_dir)\n",
        "\n",
        "    def process(self):\n",
        "        # Read data into huge `Data` list.\n",
        "        path = os.path.join(self.raw_dir,'cicy3o.h5')\n",
        "        df = pd.read_hdf(path)\n",
        "        df['matrix'] = df['matrix'].apply(lambda x: torch.tensor(x,dtype=torch.float))\n",
        "        df = df.sample(frac=1)\n",
        "        graphs_list = df_to_list(df)\n",
        "        data_list = [graph_to_data(graph) for graph in graphs_list]\n",
        "        if self.pre_filter is not None:\n",
        "            data_list = [data for data in data_list if self.pre_filter_func(data)]\n",
        "        if self.pre_transform is not None:\n",
        "            data_list = [self.pre_transform_func(data) for data in data_list]\n",
        "        data, slices = self.collate(data_list)\n",
        "        torch.save((data, slices), self.processed_paths[0])"
      ]
    },
    {
      "cell_type": "code",
      "execution_count": 56,
      "metadata": {},
      "outputs": [
        {
          "name": "stderr",
          "output_type": "stream",
          "text": [
            "Processing...\n",
            "Done!\n"
          ]
        }
      ],
      "source": [
        "dataset = OriginalCICY3(root='data',pre_filter=[min_filter(1,'h21'),max_filter(91,'h21')],pre_transform=label_selection('h21'))"
      ]
    },
    {
      "cell_type": "code",
      "execution_count": null,
      "metadata": {},
      "outputs": [],
      "source": []
    }
  ],
  "metadata": {
    "colab": {
      "collapsed_sections": [],
      "name": "Notebook torch.ipynb",
      "provenance": []
    },
    "interpreter": {
      "hash": "635d87d70794cd75c9df0a55adb87f6dc0ac7334aee3eb64b4779b10e3e88c14"
    },
    "kernelspec": {
      "display_name": "Python 3.8.13 ('torch-nightly')",
      "language": "python",
      "name": "python3"
    },
    "language_info": {
      "codemirror_mode": {
        "name": "ipython",
        "version": 3
      },
      "file_extension": ".py",
      "mimetype": "text/x-python",
      "name": "python",
      "nbconvert_exporter": "python",
      "pygments_lexer": "ipython3",
      "version": "3.8.13"
    }
  },
  "nbformat": 4,
  "nbformat_minor": 0
}
